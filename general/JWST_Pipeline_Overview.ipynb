{
 "cells": [
  {
   "cell_type": "markdown",
   "metadata": {},
   "source": [
    "## Introduction to the JWST pipeline\n",
    "\n",
    "This is a tutorial on running the JWST Science Calibration Pipeline (referred to as “the pipeline”) and individual pipeline steps.\n",
    "\n",
    "\n",
    "### Outline\n",
    "\n",
    "\n",
    "- Installation\n",
    "- Pipeline Overview\n",
    "- Running the pipeline or a single step on the command line\n",
    "- Running the pipeline or a single step in a Python session\n",
    "- Running a modified pipeline\n",
    "- stpipe\n",
    "- datamodels\n"
   ]
  },
  {
   "cell_type": "markdown",
   "metadata": {},
   "source": [
    "## Installation\n",
    "\n",
    "#### Initialize a conda environment\n",
    "\n",
    "For the purpose of this tutorial we will install jwst in a new conda environment, called `jwst-test` using Python 3.8. This tutorial assumes a user has conda installed.\n",
    "The package installs its dependencies but we need to install Python and numpy in the conda environment.  \n",
    "\n",
    "- Make and activate the new conda environment\n",
    "\n",
    "*% conda create -n jwst-test python=3.8*\n",
    "\n",
    "*% source activate jwst-test*\n",
    "\n",
    "- Install numpy\n",
    "\n",
    "*% pip install numpy==1.19*\n",
    "\n",
    "- Another useful (not required) package is jupyter. It installs ipython and jupyter notebook.\n",
    "\n",
    "*% pip install jupyter*"
   ]
  },
  {
   "cell_type": "markdown",
   "metadata": {},
   "source": [
    "#### Install a public release of jwst from PyPi.\n",
    "\n",
    "The latest public release can be installed with one command.\n",
    "\n",
    "*% pip install jwst*"
   ]
  },
  {
   "cell_type": "markdown",
   "metadata": {},
   "source": [
    "#### Install the latest devlopment code from the jwst repository\n",
    "\n",
    "The source code for the JWST pipeline is located on github in the spacetelescope organization\n",
    "\n",
    "https://github.com/spacetelescope/jwst\n",
    "\n",
    "To install the latest code from github use the command:\n",
    "\n",
    "*% pip install git+https://github.com/spacetelescope/jwst*\n"
   ]
  },
  {
   "cell_type": "markdown",
   "metadata": {},
   "source": [
    "#### Calibration Reference Data System (CRDS) Setup\n",
    "\n",
    "The pipeline uses reference data stored in CRDS. Each step retrieves the the reference data it needs from CRDS at run time by matching certain keywords in the observation to keywords in the eference files. At STScI CRDS and its cache are installed in a central location available to everyone. When not at STScI we need to tell where CRDS should store the cache locally and which server it should use. This is done by setting two environmental variables\n",
    "\n",
    "*% export CRDS_PATH=$HOME/crds_cache*\n",
    "\n",
    "*% export CRDS_SERVER_URL=https://jwst-crds.stsci.edu*"
   ]
  },
  {
   "cell_type": "markdown",
   "metadata": {},
   "source": [
    "## Pipeline Overview\n",
    "\n",
    "The JWST pipeline is broken into 3 stages. Each stage consists of a series of steps. This tutorial uses stages 1 and 2 of the pipeline as examples. \n",
    "\n",
    "- Stage 1: Detector-level corrections and ramp fitting for individual exposures\n",
    "\n",
    "  The first stage, called `calwebb_detecotr1`, is applied nearly universally for all instruments and modes. It consists of detector-level corrections that are performed on a group-by-group basis, followed by ramp fitting. The output of stage 1 processing is a countrate image per exposure, or per integration for some modes. \n",
    "\n",
    "\n",
    "- Stage 2: Instrument-mode calibrations for individual exposures\n",
    "\n",
    "  The second stage is split into separate modules for imaging and spectroscopic data, called `calwebb_image2` and `calwebb_spec2` respectively. It consists of additional instrument-level and observing-mode corrections and calibrations to produce fully calibrated exposures. The details differ for imaging and spectroscopic exposures, and there are some corrections that are unique to certain instruments or modes.\n",
    "  \n",
    "  \n",
    "- Stage 3: Combining data from multiple exposures within an observation\n",
    "\n",
    "  The third stage is divided into five separate modules depending on the observing mode. It consists of routines that work with multiple exposures and in most cases produce some kind of combined product. There are unique pipeline modules for stage 3 processing of imaging, spectroscopic, coronagraphic, AMI, and TSO observations."
   ]
  },
  {
   "cell_type": "markdown",
   "metadata": {},
   "source": [
    "## Running the pipeline\n",
    "\n",
    "#### Running from the command line\n",
    "\n",
    "Individual steps and pipelines (consisting of a series of steps) can be run from the command line using the `strun` command and passing either a configuration file or the class name and an input file\n",
    "\n",
    "*% strun `class_name` `input_file`*\n",
    "\n",
    "*% strun `configuration_file` `input_file`*\n",
    "\n",
    "Each pipeline step has a configuration file. Before running the pipeline we need to \"collect\" the configuration files by running \n",
    "\n",
    "*% mkdir cfgs*\n",
    "\n",
    "*% collect_pipeline_cfgs cfgs*\n",
    "\n",
    "where `cfgs` is the destination directory where all configuration files are copied.\n",
    "\n",
    "Using the stage 1 pipeline as an example\n",
    "\n",
    "*% strun cfgs/calwebb_detector1.cfg input_file.fits*\n",
    "\n",
    "or using the class name\n",
    "\n",
    "*% strun jwst.pipeline.Detector1Pipeline jw00017001001_01101_00001_nrca1_uncal.fits*\n",
    "\n",
    "When a pipeline or step is executed in this manner (i.e. by referencing the class name), it will be run using a CRDS-supplied configuration merged with default values."
   ]
  },
  {
   "cell_type": "markdown",
   "metadata": {},
   "source": [
    "#### Running the pipeline with non-default values of parameters\n",
    "\n",
    "If you want to use non-default parameter values, you can specify them as keyword arguments on the command line or set them in the appropriate configuration file.\n",
    "\n",
    "To specify parameter values for an individual step when running a pipeline use the syntax --steps.<step_name>.<parameter>=value. For example, to override the default selection of a dark current reference file from CRDS when running a pipeline\n",
    "    \n",
    "*% strun jwst.pipeline.Detector1Pipeline jw00017001001_01101_00001_nrca1_uncal.fits \n",
    "    --steps.dark_current.override_dark='my_dark.fits'*\n",
    "    \n",
    "\n",
    "    "
   ]
  },
  {
   "cell_type": "markdown",
   "metadata": {},
   "source": [
    "You can get a list of all the available arguments for a given pipeline or step by using the ‘-h’ (help) argument to strun:\n",
    "\n",
    "*% strun dq_init.cfg -h*\n",
    "\n",
    "*% strun jwst.pipeline.Detector1Pipeline -h*"
   ]
  },
  {
   "cell_type": "markdown",
   "metadata": {},
   "source": [
    "#### Running the pipeline or a single step in a Python session\n",
    "\n",
    "The pipeline or a single step can be executed from within a Python or IPython session by using the `call` method of the class:"
   ]
  },
  {
   "cell_type": "code",
   "execution_count": null,
   "metadata": {},
   "outputs": [],
   "source": [
    "from jwst.pipeline import Detector1Pipeline\n",
    "\n",
    "result = Detector1Pipeline.call('jw00017001001_01101_00001_nrca1_uncal.fits')"
   ]
  },
  {
   "cell_type": "code",
   "execution_count": null,
   "metadata": {},
   "outputs": [],
   "source": [
    "from jwst.linearity import LinearityStep\n",
    "\n",
    "result = LinearityStep.call('jw00001001001_01101_00001_mirimage_uncal.fits')"
   ]
  },
  {
   "cell_type": "code",
   "execution_count": null,
   "metadata": {},
   "outputs": [],
   "source": []
  }
 ],
 "metadata": {
  "kernelspec": {
   "display_name": "Python 3",
   "language": "python",
   "name": "python3"
  },
  "language_info": {
   "codemirror_mode": {
    "name": "ipython",
    "version": 3
   },
   "file_extension": ".py",
   "mimetype": "text/x-python",
   "name": "python",
   "nbconvert_exporter": "python",
   "pygments_lexer": "ipython3",
   "version": "3.8.5"
  }
 },
 "nbformat": 4,
 "nbformat_minor": 4
}
